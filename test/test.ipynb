{
 "cells": [
  {
   "cell_type": "code",
   "execution_count": 137,
   "metadata": {},
   "outputs": [],
   "source": [
    "import pandas as pd\n",
    "import numpy as np\n",
    "import time"
   ]
  },
  {
   "cell_type": "code",
   "execution_count": 132,
   "metadata": {},
   "outputs": [
    {
     "name": "stderr",
     "output_type": "stream",
     "text": [
      "/usr/local/lib/python3.7/site-packages/ipykernel_launcher.py:28: DeprecationWarning: insert is deprecated. Use insert_one or insert_many instead.\n"
     ]
    },
    {
     "data": {
      "text/plain": [
       "ObjectId('5e4918b68dbb46c2fb90ef76')"
      ]
     },
     "execution_count": 132,
     "metadata": {},
     "output_type": "execute_result"
    }
   ],
   "source": [
    "financial_securitie = {\n",
    "    \"id\":'BS_AM',\n",
    "    \"timestamp\":1581717368.347977,\n",
    "    \"Synthetic_index\":100,\n",
    "    \"owner\":\"Alex Méndez\",\n",
    "    \"entity\":\"banco santander\",\n",
    "    \"underlying_securities\":[\n",
    "        {\n",
    "            \"id\":0,\n",
    "            \"type\":\"ACCION\",\n",
    "            \"price\":70,\n",
    "            \"weight\":5\n",
    "        },\n",
    "        { \n",
    "            \"id\":1,\n",
    "            \"type\":\"DEUDA\",\n",
    "            \"price\":100,\n",
    "            \"weight\":15\n",
    "        }\n",
    "        ]\n",
    "}\n",
    "peticion = {\n",
    "    \"VF\":\"0\",\n",
    "    \"idAS\":1,\n",
    "    \"precio\":90\n",
    "\n",
    "}\n",
    "coll.insert(financial_securitie)"
   ]
  },
  {
   "cell_type": "code",
   "execution_count": 97,
   "metadata": {},
   "outputs": [],
   "source": [
    "def calculate_synthetic_index(precio_peticion,precio_antiguo,peso,indice_sintetico_inicial):\n",
    "    \"\"\"\n",
    "    Funcion que recibe 4 parametros para calcular el indice sintetico al actualizar el precio:\n",
    "    - precio_peticion: precio al que se actualiza\n",
    "    - precio_antiguo: precio antes de la actualizacion\n",
    "    - peso de la accion\n",
    "    - indice sintetico inical\n",
    "    \"\"\"\n",
    "    Rit = (precio_peticion/precio_antiguo)-1\n",
    "    Rt = peso*Rit\n",
    "    isf = indice_sintetico_inicial*(1-Rt)\n",
    "    return isf"
   ]
  },
  {
   "cell_type": "code",
   "execution_count": 98,
   "metadata": {},
   "outputs": [
    {
     "data": {
      "text/plain": [
       "{'id': 1,\n",
       " 'timestamp': 1581840620.3934588,\n",
       " 'Synthetic_index': 249.99999999999994,\n",
       " 'dueño': 'pepe',\n",
       " 'entidad': 'banco santander',\n",
       " 'activos_subyacentes': [{'id': 0, 'type': 'ACCION', 'precio': 70, 'peso': 5},\n",
       "  {'id': 1, 'type': 'DEUDA', 'precio': 90, 'peso': 15}]}"
      ]
     },
     "execution_count": 98,
     "metadata": {},
     "output_type": "execute_result"
    }
   ],
   "source": [
    "def update_financial_securitie(financial_securitie,peticion):    \n",
    "    activos = financial_securitie[\"activos_subyacentes\"]\n",
    "    isi = financial_securitie[\"Synthetic_index\"]\n",
    "    p_peticion = peticion[\"price\"]\n",
    "    for i in range(len(activos)):\n",
    "        if activos[i][\"id\"]== peticion[\"idAS\"]:\n",
    "            peso = activos[i][\"weight\"]\n",
    "            indice_sintetico_final = calculate_synthetic_index(p_peticion,activos[i][\"precio\"],peso,isi)\n",
    "            activos[i]['price'] = p_peticion\n",
    "            fs_final = {\n",
    "                        \"id\":financial_securitie[\"id\"]+1,\n",
    "                        \"timestamp\":time.time(),\n",
    "                        \"Synthetic_index\":indice_sintetico_final,\n",
    "                        \"owner\":\"pepe\",\n",
    "                        \"entity\":\"banco santander\",\n",
    "                        \"underlying_securities\":activos\n",
    "                        }\n",
    "            return fs_final\n",
    "fs_final = update_financial_securitie(financial_securitie,peticion)\n",
    "fs_final"
   ]
  },
  {
   "cell_type": "code",
   "execution_count": null,
   "metadata": {},
   "outputs": [],
   "source": []
  },
  {
   "cell_type": "code",
   "execution_count": 127,
   "metadata": {},
   "outputs": [
    {
     "name": "stdout",
     "output_type": "stream",
     "text": [
      "{'id_fs': 0, 'idAS': 0, 'price': 90}\n",
      "{1: 2}\n"
     ]
    }
   ],
   "source": [
    "peticiones = {\n",
    "    \"0\":{\n",
    "        \"id_fs\":0,\n",
    "        \"idAS\":0,\n",
    "        \"price\":90  \n",
    "    },\n",
    "    \"1\":{1:2}\n",
    "}\n",
    "for i in range(len(peticiones)):\n",
    "    print(peticiones[str(i)])"
   ]
  },
  {
   "cell_type": "code",
   "execution_count": 100,
   "metadata": {},
   "outputs": [],
   "source": [
    "def calculate_Rt(activos,peticiones):\n",
    "    Rt = 0\n",
    "    for ind in range(len(peticiones)):\n",
    "        for i in range(len(activos)):\n",
    "            if activos[i][\"id\"]==peticiones[ind][\"idAS\"]:\n",
    "                rit=(peticiones[ind][\"price\"]/activos[i][\"price\"])-1\n",
    "                Rt+=activos[i][\"weight\"]*rit\n",
    "                activos[i][\"price\"] = peticiones[ind][\"price\"]\n",
    "        return Rt, activos"
   ]
  },
  {
   "cell_type": "code",
   "execution_count": 101,
   "metadata": {},
   "outputs": [],
   "source": [
    "Rt,activos = calculate_Rt(financial_securitie[\"activos_subyacentes\"],peticiones)\n",
    "si = 100*(1+Rt)\n",
    "    "
   ]
  },
  {
   "cell_type": "code",
   "execution_count": 102,
   "metadata": {},
   "outputs": [
    {
     "data": {
      "text/plain": [
       "{'id': 1,\n",
       " 'timestamp': 1581840623.570646,\n",
       " 'Synthetic_index': 100.0,\n",
       " 'dueño': 'pepe',\n",
       " 'entidad': 'banco santander',\n",
       " 'activos_subyacentes': [{'id': 0, 'type': 'ACCION', 'precio': 90, 'peso': 5},\n",
       "  {'id': 1, 'type': 'DEUDA', 'precio': 90, 'peso': 15}]}"
      ]
     },
     "execution_count": 102,
     "metadata": {},
     "output_type": "execute_result"
    }
   ],
   "source": [
    "def update_financial_securitie_2(financial_securitie,peticion):    \n",
    "    activos = financial_securitie[\"underlying_securities\"]\n",
    "    isi = financial_securitie[\"Synthetic_index\"]\n",
    "    p_peticion = peticion[\"price\"]\n",
    "    \n",
    "    Rt,activos = calculate_Rt(financial_securitie[\"underlying_securities\"],peticiones)\n",
    "    si = isi*(1+Rt)\n",
    "    \n",
    "    fs_final = {\n",
    "                \"id\":financial_securitie[\"id\"]+1,\n",
    "                \"timestamp\":time.time(),\n",
    "                \"Synthetic_index\":si,\n",
    "                \"owner\":\"pepe\",\n",
    "                \"entity\":\"banco santander\",\n",
    "                \"underlying_securities\":activos\n",
    "                }\n",
    "    return fs_final\n",
    "fs_final = update_financial_securitie_2(financial_securitie,peticion)\n",
    "fs_final"
   ]
  },
  {
   "cell_type": "code",
   "execution_count": 103,
   "metadata": {},
   "outputs": [],
   "source": [
    "from pymongo import MongoClient\n",
    "import os\n",
    "from dotenv import load_dotenv\n",
    "load_dotenv()\n",
    "\n",
    "#Get Password\n",
    "connection = os.getenv('URLMONGO')\n",
    "#Connect to DB\n",
    "client = MongoClient(connection)\n",
    "def connectCollection(database, collection):\n",
    "    db = client[database]\n",
    "    coll = db[collection]\n",
    "    return db, coll"
   ]
  },
  {
   "cell_type": "code",
   "execution_count": 104,
   "metadata": {},
   "outputs": [],
   "source": [
    "db,coll = connectCollection('ets_factory','financial_securities')"
   ]
  },
  {
   "cell_type": "code",
   "execution_count": 113,
   "metadata": {},
   "outputs": [
    {
     "name": "stderr",
     "output_type": "stream",
     "text": [
      "/usr/local/lib/python3.7/site-packages/ipykernel_launcher.py:1: DeprecationWarning: insert is deprecated. Use insert_one or insert_many instead.\n",
      "  \"\"\"Entry point for launching an IPython kernel.\n"
     ]
    },
    {
     "data": {
      "text/plain": [
       "ObjectId('5e48fdeb8dbb46c2fb90ef75')"
      ]
     },
     "execution_count": 113,
     "metadata": {},
     "output_type": "execute_result"
    }
   ],
   "source": [
    "coll.insert(financial_securitie)"
   ]
  },
  {
   "cell_type": "code",
   "execution_count": 114,
   "metadata": {},
   "outputs": [
    {
     "data": {
      "text/plain": [
       "[{'_id': ObjectId('5e48f9028dbb46c2fb90ef73'),\n",
       "  'id': 0,\n",
       "  'timestamp': 1581717368.347977,\n",
       "  'Synthetic_index': 100,\n",
       "  'dueño': 'pepe',\n",
       "  'entidad': 'banco santander',\n",
       "  'activos_subyacentes': [{'id': 0, 'type': 'ACCION', 'precio': 90, 'peso': 5},\n",
       "   {'id': 1, 'type': 'DEUDA', 'precio': 90, 'peso': 15}]},\n",
       " {'_id': ObjectId('5e48fdc78dbb46c2fb90ef74'),\n",
       "  'id': 0,\n",
       "  'timestamp': 1581717368.347977,\n",
       "  'Synthetic_index': 100,\n",
       "  'owner': 'pepe',\n",
       "  'entity': 'banco santander',\n",
       "  'underlying_securities': [{'id': 0,\n",
       "    'type': 'ACCION',\n",
       "    'price': 70,\n",
       "    'weight': 5},\n",
       "   {'id': 1, 'type': 'DEUDA', 'price': 100, 'weight': 15}]},\n",
       " {'_id': ObjectId('5e48fdeb8dbb46c2fb90ef75'),\n",
       "  'id': 0,\n",
       "  'timestamp': 1581717368.347977,\n",
       "  'Synthetic_index': 100,\n",
       "  'owner': 'Alex Méndez',\n",
       "  'entity': 'banco santander',\n",
       "  'underlying_securities': [{'id': 0,\n",
       "    'type': 'ACCION',\n",
       "    'price': 70,\n",
       "    'weight': 5},\n",
       "   {'id': 1, 'type': 'DEUDA', 'price': 100, 'weight': 15}]}]"
      ]
     },
     "execution_count": 114,
     "metadata": {},
     "output_type": "execute_result"
    }
   ],
   "source": [
    "list(coll.find({}))"
   ]
  },
  {
   "cell_type": "code",
   "execution_count": 129,
   "metadata": {},
   "outputs": [
    {
     "ename": "KeyError",
     "evalue": "0",
     "output_type": "error",
     "traceback": [
      "\u001b[0;31m---------------------------------------------------------------------------\u001b[0m",
      "\u001b[0;31mKeyError\u001b[0m                                  Traceback (most recent call last)",
      "\u001b[0;32m<ipython-input-129-2c4656f799eb>\u001b[0m in \u001b[0;36m<module>\u001b[0;34m\u001b[0m\n\u001b[0;32m----> 1\u001b[0;31m \u001b[0mfinancial_securitie\u001b[0m \u001b[0;34m=\u001b[0m \u001b[0mlist\u001b[0m\u001b[0;34m(\u001b[0m\u001b[0mcoll\u001b[0m\u001b[0;34m.\u001b[0m\u001b[0mfind\u001b[0m\u001b[0;34m(\u001b[0m\u001b[0;34m{\u001b[0m\u001b[0;34m'id'\u001b[0m\u001b[0;34m:\u001b[0m\u001b[0mpeticiones\u001b[0m\u001b[0;34m[\u001b[0m\u001b[0;36m0\u001b[0m\u001b[0;34m]\u001b[0m\u001b[0;34m[\u001b[0m\u001b[0;34m\"id_fs\"\u001b[0m\u001b[0;34m]\u001b[0m\u001b[0;34m}\u001b[0m\u001b[0;34m)\u001b[0m\u001b[0;34m)\u001b[0m\u001b[0;34m[\u001b[0m\u001b[0;34m-\u001b[0m\u001b[0;36m1\u001b[0m\u001b[0;34m]\u001b[0m\u001b[0;34m\u001b[0m\u001b[0;34m\u001b[0m\u001b[0m\n\u001b[0m",
      "\u001b[0;31mKeyError\u001b[0m: 0"
     ]
    }
   ],
   "source": [
    "financial_securitie = list(coll.find({'id':peticiones[0][\"id_fs\"]}))[-1]"
   ]
  },
  {
   "cell_type": "code",
   "execution_count": 120,
   "metadata": {},
   "outputs": [
    {
     "data": {
      "text/plain": [
       "{'_id': ObjectId('5e48fdeb8dbb46c2fb90ef75'),\n",
       " 'id': 0,\n",
       " 'timestamp': 1581717368.347977,\n",
       " 'Synthetic_index': 100,\n",
       " 'owner': 'Alex Méndez',\n",
       " 'entity': 'banco santander',\n",
       " 'underlying_securities': [{'id': 0,\n",
       "   'type': 'ACCION',\n",
       "   'price': 70,\n",
       "   'weight': 5},\n",
       "  {'id': 1, 'type': 'DEUDA', 'price': 100, 'weight': 15}]}"
      ]
     },
     "execution_count": 120,
     "metadata": {},
     "output_type": "execute_result"
    }
   ],
   "source": [
    "financial_securitie"
   ]
  },
  {
   "cell_type": "code",
   "execution_count": 123,
   "metadata": {},
   "outputs": [
    {
     "data": {
      "text/plain": [
       "0"
      ]
     },
     "execution_count": 123,
     "metadata": {},
     "output_type": "execute_result"
    }
   ],
   "source": [
    "peticiones[0]['idAS']"
   ]
  },
  {
   "cell_type": "code",
   "execution_count": 128,
   "metadata": {},
   "outputs": [
    {
     "data": {
      "text/plain": [
       "[{'_id': ObjectId('5e48fdeb8dbb46c2fb90ef75'),\n",
       "  'id': 0,\n",
       "  'timestamp': 1581717368.347977,\n",
       "  'Synthetic_index': 100,\n",
       "  'owner': 'Alex Méndez',\n",
       "  'entity': 'banco santander',\n",
       "  'underlying_securities': [{'id': 0,\n",
       "    'type': 'ACCION',\n",
       "    'price': 70,\n",
       "    'weight': 5},\n",
       "   {'id': 1, 'type': 'DEUDA', 'price': 100, 'weight': 15}]}]"
      ]
     },
     "execution_count": 128,
     "metadata": {},
     "output_type": "execute_result"
    }
   ],
   "source": [
    "    financial_securitie = list(coll.find({'id':peticiones[key][\"id_fs\"]}))\n",
    "    financial_securitie\n"
   ]
  },
  {
   "cell_type": "code",
   "execution_count": 136,
   "metadata": {},
   "outputs": [],
   "source": [
    "from flask import request\n",
    "def uploadjson():\n",
    "    upload    = request.files.get('upload')\n",
    "    print('==============>UPLOAD',upload.filename)\n",
    "    if upload == None or upload.filename == '':\n",
    "        return 'Error no image'\n",
    "    name, ext = os.path.splitext(upload.filename)\n",
    "    if ext not in ('.json'):\n",
    "        return 'Error'\n",
    "    upload.save('/upload.json') # appends upload.filename automatically\n",
    "    return '/upload.json'"
   ]
  },
  {
   "cell_type": "code",
   "execution_count": 229,
   "metadata": {},
   "outputs": [],
   "source": [
    "db,coll = connectCollection('ets_factory','financial_securities')\n",
    "import matplotlib.pyplot as plt\n",
    "%matplotlib inline\n",
    "\n",
    "import matplotlib.dates as md\n",
    "import numpy as np\n",
    "import datetime as dt\n",
    "import time\n",
    "import webbrowser\n"
   ]
  },
  {
   "cell_type": "code",
   "execution_count": 231,
   "metadata": {},
   "outputs": [
    {
     "data": {
      "text/plain": [
       "'banco santander'"
      ]
     },
     "execution_count": 231,
     "metadata": {},
     "output_type": "execute_result"
    }
   ],
   "source": [
    "BS_financial = list(coll.find({'id':'BS_AM'}))\n",
    "BS_financial[0].get('entity')"
   ]
  },
  {
   "cell_type": "code",
   "execution_count": 232,
   "metadata": {},
   "outputs": [
    {
     "name": "stdout",
     "output_type": "stream",
     "text": [
      "[100, 242.8571428571429, 269.84126984126976, 240.51069703243613, 173.70217007898162, 122.61329652633995, 84.29664136185872, 168.5932827237174, 215.42475014697226, 158.73402642408476, 246.91959665968744, 246.91959665968744, 246.91959665968744, 246.91959665968744, 246.91959665968744]\n",
      "[1581717368.347977, 1581972000.92179, 1581972062.6805649, 1581972089.433912, 1581972128.37584, 1581972152.0448792, 1581972166.048724, 1581972174.76077, 1581972182.1972811, 1581972190.750176, 1581972421.18331, 1581972460.914551, 1581973011.1712599, 1582044493.636564, 1582050106.8101828]\n"
     ]
    }
   ],
   "source": [
    "BS_financial = list(coll.find({'id':'BS_AM'}))\n",
    "sinthetic_index = []\n",
    "time = []\n",
    "for i in range(len(BS_financial)):\n",
    "    timestamp = BS_financial[i]['timestamp']\n",
    "    time.append((timestamp))\n",
    "    sinthetic_index.append(BS_financial[i]['Synthetic_index'])\n",
    "print(sinthetic_index)\n",
    "print(time)\n"
   ]
  },
  {
   "cell_type": "code",
   "execution_count": 233,
   "metadata": {},
   "outputs": [],
   "source": [
    "time =[dt.datetime.fromtimestamp(ts) for ts in time]"
   ]
  },
  {
   "cell_type": "code",
   "execution_count": 234,
   "metadata": {},
   "outputs": [
    {
     "data": {
      "text/plain": [
       "True"
      ]
     },
     "execution_count": 234,
     "metadata": {},
     "output_type": "execute_result"
    },
    {
     "data": {
      "image/png": "[encoded data removed]",
      "text/plain": [
       "<Figure size 1080x720 with 1 Axes>"
      ]
     },
     "metadata": {
      "needs_background": "light"
     },
     "output_type": "display_data"
    }
   ],
   "source": [
    "entity = BS_financial[0].get('entity')\n",
    "plt.figure(figsize=(15,10))\n",
    "plt.subplots_adjust(bottom=0.2)\n",
    "plt.xticks( rotation=25 )\n",
    "ax=plt.gca()\n",
    "xfmt = md.DateFormatter('%Y-%m-%d %H:%M:%S')\n",
    "ax.xaxis.set_major_formatter(xfmt)\n",
    "plt.plot(time,sinthetic_index)\n",
    "plt.legend(['Sinthetic index'],loc =\"upper left\")\n",
    "plt.ylabel('Financial securitie value')\n",
    "plt.xlabel('Date')\n",
    "plt.title(f'Sinthetic index evolution of {entity}')\n",
    "plt.savefig('plot.png')\n"
   ]
  },
  {
   "cell_type": "code",
   "execution_count": 237,
   "metadata": {},
   "outputs": [
    {
     "ename": "AttributeError",
     "evalue": "module 'os' has no attribute 'startfile'",
     "output_type": "error",
     "traceback": [
      "\u001b[0;31m---------------------------------------------------------------------------\u001b[0m",
      "\u001b[0;31mAttributeError\u001b[0m                            Traceback (most recent call last)",
      "\u001b[0;32m<ipython-input-237-7c28a40de7fc>\u001b[0m in \u001b[0;36m<module>\u001b[0;34m\u001b[0m\n\u001b[1;32m      1\u001b[0m \u001b[0murl\u001b[0m \u001b[0;34m=\u001b[0m \u001b[0;34m'foo.png'\u001b[0m\u001b[0;34m\u001b[0m\u001b[0;34m\u001b[0m\u001b[0m\n\u001b[0;32m----> 2\u001b[0;31m \u001b[0mos\u001b[0m\u001b[0;34m.\u001b[0m\u001b[0mstartfile\u001b[0m\u001b[0;34m(\u001b[0m\u001b[0murl\u001b[0m\u001b[0;34m)\u001b[0m\u001b[0;34m\u001b[0m\u001b[0;34m\u001b[0m\u001b[0m\n\u001b[0m",
      "\u001b[0;31mAttributeError\u001b[0m: module 'os' has no attribute 'startfile'"
     ]
    }
   ],
   "source": []
  },
  {
   "cell_type": "code",
   "execution_count": null,
   "metadata": {},
   "outputs": [],
   "source": [
    "@app.route('/line')\n",
    "def line():\n",
    "    financial = list(coll.find({'id':'BS_AM'}))\n",
    "    sinthetic_index = []\n",
    "    time = []\n",
    "    for i in range(len(financial)):\n",
    "        timestamp = financial[i]['timestamp']\n",
    "        time.append((timestamp))\n",
    "        sinthetic_index.append(BS_financial[i]['Synthetic_index'])\n",
    "    line_labels=time\n",
    "    line_values=sinthetic_index\n",
    "    return render_template('line_chart.html', title='yeeeha', max=max(linevalues)+100, labels=line_labels, values=line_values)"
   ]
  },
  {
   "cell_type": "code",
   "execution_count": null,
   "metadata": {},
   "outputs": [],
   "source": []
  }
 ],
 "metadata": {
  "kernelspec": {
   "display_name": "Python 3",
   "language": "python",
   "name": "python3"
  },
  "language_info": {
   "codemirror_mode": {
    "name": "ipython",
    "version": 3
   },
   "file_extension": ".py",
   "mimetype": "text/x-python",
   "name": "python",
   "nbconvert_exporter": "python",
   "pygments_lexer": "ipython3",
   "version": "3.7.5"
  }
 },
 "nbformat": 4,
 "nbformat_minor": 2
}
