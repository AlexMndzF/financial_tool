{
 "cells": [
  {
   "cell_type": "code",
   "execution_count": 47,
   "metadata": {},
   "outputs": [],
   "source": [
    "import pandas as pd\n",
    "import numpy as np\n",
    "import time"
   ]
  },
  {
   "cell_type": "code",
   "execution_count": 60,
   "metadata": {},
   "outputs": [],
   "source": [
    "financial_securitie = {\n",
    "    \"id\":0,\n",
    "    \"timestamp\":1581717368.347977,\n",
    "    \"Synthetic_index\":100,\n",
    "    \"dueño\":\"pepe\",\n",
    "    \"entidad\":\"banco santander\",\n",
    "    \"activos_subyacentes\":[\n",
    "        {\n",
    "            \"id\":0,\n",
    "            \"type\":\"ACCION\",\n",
    "            \"precio\":70,\n",
    "            \"peso\":5\n",
    "        },\n",
    "        { \n",
    "            \"id\":1,\n",
    "            \"type\":\"DEUDA\",\n",
    "            \"precio\":100,\n",
    "            \"peso\":15\n",
    "        }\n",
    "        ]\n",
    "}\n",
    "peticion = {\n",
    "    \"VF\":\"0\",\n",
    "    \"idAS\":1,\n",
    "    \"precio\":90\n",
    "\n",
    "}"
   ]
  },
  {
   "cell_type": "code",
   "execution_count": 70,
   "metadata": {},
   "outputs": [],
   "source": [
    "def update_financial_securitie(financial_securitie,peticion):    \n",
    "    activos = financial_securitie[\"activos_subyacentes\"]\n",
    "    indice_sintetico_inicial = financial_securitie_0[\"Synthetic_index\"]\n",
    "    id_peticion = peticion[\"idAS\"]\n",
    "    precio_peticion = peticion[\"precio\"]\n",
    "    id_fs_inicial = financial_securitie[\"id\"]\n",
    "    for i in range(len(activos)):\n",
    "        _id = activos[i][\"id\"]\n",
    "        precio_antiguo = activos[i][\"precio\"]\n",
    "        peso = activos[i][\"peso\"]\n",
    "        if _id == id_peticion:\n",
    "            Rit = (precio_peticion/precio_antiguo)-1\n",
    "            Rt = peso*Rit\n",
    "            indice_sintetico_final = indice_sintetico_inicial*(1-Rt)\n",
    "            activos[i]['precio'] = precio_peticion\n",
    "        fs_final = {\n",
    "                    \"id\":id_fs_inicial+1,\n",
    "                    \"timestamp\":time.time(),\n",
    "                    \"Synthetic_index\":indice_sintetico_final,\n",
    "                    \"dueño\":\"pepe\",\n",
    "                    \"entidad\":\"banco santander\",\n",
    "                    \"activos_subyacentes\":activos\n",
    "                    }\n",
    "        return fs_final\n"
   ]
  },
  {
   "cell_type": "code",
   "execution_count": 65,
   "metadata": {},
   "outputs": [
    {
     "data": {
      "text/plain": [
       "{'id': 1,\n",
       " 'timestamp': 1581717912.441765,\n",
       " 'Synthetic_index': 100.0,\n",
       " 'dueño': 'pepe',\n",
       " 'entidad': 'banco santander',\n",
       " 'activos_subyacentes': [{'id': 0, 'type': 'ACCION', 'precio': 70, 'peso': 5},\n",
       "  {'id': 1, 'type': 'DEUDA', 'precio': 90, 'peso': 15}]}"
      ]
     },
     "execution_count": 65,
     "metadata": {},
     "output_type": "execute_result"
    }
   ],
   "source": [
    "fs_final"
   ]
  },
  {
   "cell_type": "code",
   "execution_count": 67,
   "metadata": {},
   "outputs": [
    {
     "data": {
      "text/plain": [
       "0"
      ]
     },
     "execution_count": 67,
     "metadata": {},
     "output_type": "execute_result"
    }
   ],
   "source": []
  },
  {
   "cell_type": "code",
   "execution_count": null,
   "metadata": {},
   "outputs": [],
   "source": []
  }
 ],
 "metadata": {
  "kernelspec": {
   "display_name": "Python 3",
   "language": "python",
   "name": "python3"
  },
  "language_info": {
   "codemirror_mode": {
    "name": "ipython",
    "version": 3
   },
   "file_extension": ".py",
   "mimetype": "text/x-python",
   "name": "python",
   "nbconvert_exporter": "python",
   "pygments_lexer": "ipython3",
   "version": "3.7.5"
  }
 },
 "nbformat": 4,
 "nbformat_minor": 2
}
