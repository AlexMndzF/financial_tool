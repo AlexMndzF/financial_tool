{
 "cells": [
  {
   "cell_type": "code",
   "execution_count": 54,
   "metadata": {},
   "outputs": [],
   "source": [
    "import pandas as pd\n",
    "import numpy as np\n",
    "import time"
   ]
  },
  {
   "cell_type": "code",
   "execution_count": 88,
   "metadata": {},
   "outputs": [],
   "source": [
    "financial_securitie = {\n",
    "    \"id\":0,\n",
    "    \"timestamp\":1581717368.347977,\n",
    "    \"Synthetic_index\":100,\n",
    "    \"dueño\":\"pepe\",\n",
    "    \"entidad\":\"banco santander\",\n",
    "    \"activos_subyacentes\":[\n",
    "        {\n",
    "            \"id\":0,\n",
    "            \"type\":\"ACCION\",\n",
    "            \"precio\":70,\n",
    "            \"peso\":5\n",
    "        },\n",
    "        { \n",
    "            \"id\":1,\n",
    "            \"type\":\"DEUDA\",\n",
    "            \"precio\":100,\n",
    "            \"peso\":15\n",
    "        }\n",
    "        ]\n",
    "}\n",
    "peticion = {\n",
    "    \"VF\":\"0\",\n",
    "    \"idAS\":1,\n",
    "    \"precio\":90\n",
    "\n",
    "}"
   ]
  },
  {
   "cell_type": "code",
   "execution_count": 56,
   "metadata": {},
   "outputs": [],
   "source": [
    "def calculate_synthetic_index(precio_peticion,precio_antiguo,peso,indice_sintetico_inicial):\n",
    "    \"\"\"\n",
    "    Funcion que recibe 4 parametros para calcular el indice sintetico al actualizar el precio:\n",
    "    - precio_peticion: precio al que se actualiza\n",
    "    - precio_antiguo: precio antes de la actualizacion\n",
    "    - peso de la accion\n",
    "    - indice sintetico inical\n",
    "    \"\"\"\n",
    "    Rit = (precio_peticion/precio_antiguo)-1\n",
    "    Rt = peso*Rit\n",
    "    isf = indice_sintetico_inicial*(1-Rt)\n",
    "    return isf"
   ]
  },
  {
   "cell_type": "code",
   "execution_count": 57,
   "metadata": {},
   "outputs": [
    {
     "data": {
      "text/plain": [
       "{'id': 1,\n",
       " 'timestamp': 1581721046.276802,\n",
       " 'Synthetic_index': 249.99999999999994,\n",
       " 'dueño': 'pepe',\n",
       " 'entidad': 'banco santander',\n",
       " 'activos_subyacentes': [{'id': 0, 'type': 'ACCION', 'precio': 70, 'peso': 5},\n",
       "  {'id': 1, 'type': 'DEUDA', 'precio': 90, 'peso': 15}]}"
      ]
     },
     "execution_count": 57,
     "metadata": {},
     "output_type": "execute_result"
    }
   ],
   "source": [
    "def update_financial_securitie(financial_securitie,peticion):    \n",
    "    activos = financial_securitie[\"activos_subyacentes\"]\n",
    "    isi = financial_securitie[\"Synthetic_index\"]\n",
    "    p_peticion = peticion[\"precio\"]\n",
    "    for i in range(len(activos)):\n",
    "        if activos[i][\"id\"]== peticion[\"idAS\"]:\n",
    "            peso = activos[i][\"peso\"]\n",
    "            indice_sintetico_final = calculate_synthetic_index(p_peticion,activos[i][\"precio\"],peso,isi)\n",
    "            activos[i]['precio'] = p_peticion\n",
    "            fs_final = {\n",
    "                        \"id\":financial_securitie[\"id\"]+1,\n",
    "                        \"timestamp\":time.time(),\n",
    "                        \"Synthetic_index\":indice_sintetico_final,\n",
    "                        \"dueño\":\"pepe\",\n",
    "                        \"entidad\":\"banco santander\",\n",
    "                        \"activos_subyacentes\":activos\n",
    "                        }\n",
    "            return fs_final\n",
    "fs_final = update_financial_securitie(financial_securitie,peticion)\n",
    "fs_final"
   ]
  },
  {
   "cell_type": "code",
   "execution_count": null,
   "metadata": {},
   "outputs": [],
   "source": []
  },
  {
   "cell_type": "code",
   "execution_count": 89,
   "metadata": {},
   "outputs": [],
   "source": [
    "peticiones = {\n",
    "    0:{\n",
    "        \"VF\":\"0\",\n",
    "        \"idAS\":0,\n",
    "        \"precio\":90  \n",
    "    }\n",
    "}"
   ]
  },
  {
   "cell_type": "code",
   "execution_count": 81,
   "metadata": {},
   "outputs": [],
   "source": [
    "def calculate_Rt(activos,peticiones):\n",
    "    Rt = 0\n",
    "    for ind in range(len(peticiones)):\n",
    "        for i in range(len(activos)):\n",
    "            if activos[i][\"id\"]==peticiones[ind][\"idAS\"]:\n",
    "                rit=(peticiones[ind][\"precio\"]/activos[i][\"precio\"])-1\n",
    "                Rt+=activos[i][\"peso\"]*rit\n",
    "                activos[i][\"precio\"] = peticiones[ind][\"precio\"]\n",
    "        return Rt, activos"
   ]
  },
  {
   "cell_type": "code",
   "execution_count": 87,
   "metadata": {},
   "outputs": [
    {
     "data": {
      "text/plain": [
       "0.0"
      ]
     },
     "execution_count": 87,
     "metadata": {},
     "output_type": "execute_result"
    }
   ],
   "source": [
    "Rt,activos = calculate_Rt(financial_securitie[\"activos_subyacentes\"],peticiones)\n",
    "si = 100*(1+Rt)\n",
    "    "
   ]
  },
  {
   "cell_type": "code",
   "execution_count": 90,
   "metadata": {},
   "outputs": [
    {
     "data": {
      "text/plain": [
       "{'id': 1,\n",
       " 'timestamp': 1581721900.037686,\n",
       " 'Synthetic_index': 242.8571428571429,\n",
       " 'dueño': 'pepe',\n",
       " 'entidad': 'banco santander',\n",
       " 'activos_subyacentes': [{'id': 0, 'type': 'ACCION', 'precio': 90, 'peso': 5},\n",
       "  {'id': 1, 'type': 'DEUDA', 'precio': 100, 'peso': 15}]}"
      ]
     },
     "execution_count": 90,
     "metadata": {},
     "output_type": "execute_result"
    }
   ],
   "source": [
    "def update_financial_securitie_2(financial_securitie,peticion):    \n",
    "    activos = financial_securitie[\"activos_subyacentes\"]\n",
    "    isi = financial_securitie[\"Synthetic_index\"]\n",
    "    p_peticion = peticion[\"precio\"]\n",
    "    \n",
    "    Rt,activos = calculate_Rt(financial_securitie[\"activos_subyacentes\"],peticiones)\n",
    "    si = isi*(1+Rt)\n",
    "    \n",
    "    fs_final = {\n",
    "                \"id\":financial_securitie[\"id\"]+1,\n",
    "                \"timestamp\":time.time(),\n",
    "                \"Synthetic_index\":si,\n",
    "                \"dueño\":\"pepe\",\n",
    "                \"entidad\":\"banco santander\",\n",
    "                \"activos_subyacentes\":activos\n",
    "                }\n",
    "    return fs_final\n",
    "fs_final = update_financial_securitie_2(financial_securitie,peticion)\n",
    "fs_final"
   ]
  },
  {
   "cell_type": "code",
   "execution_count": null,
   "metadata": {},
   "outputs": [],
   "source": []
  }
 ],
 "metadata": {
  "kernelspec": {
   "display_name": "Python 3",
   "language": "python",
   "name": "python3"
  },
  "language_info": {
   "codemirror_mode": {
    "name": "ipython",
    "version": 3
   },
   "file_extension": ".py",
   "mimetype": "text/x-python",
   "name": "python",
   "nbconvert_exporter": "python",
   "pygments_lexer": "ipython3",
   "version": "3.7.5"
  }
 },
 "nbformat": 4,
 "nbformat_minor": 2
}
