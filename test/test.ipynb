{
 "cells": [
  {
   "cell_type": "code",
   "execution_count": 95,
   "metadata": {},
   "outputs": [],
   "source": [
    "import pandas as pd\n",
    "import numpy as np\n",
    "import time"
   ]
  },
  {
   "cell_type": "code",
   "execution_count": 115,
   "metadata": {},
   "outputs": [
    {
     "ename": "NameError",
     "evalue": "name 'ISODate' is not defined",
     "output_type": "error",
     "traceback": [
      "\u001b[0;31m---------------------------------------------------------------------------\u001b[0m",
      "\u001b[0;31mNameError\u001b[0m                                 Traceback (most recent call last)",
      "\u001b[0;32m<ipython-input-115-a5390f844569>\u001b[0m in \u001b[0;36m<module>\u001b[0;34m\u001b[0m\n\u001b[1;32m      1\u001b[0m financial_securitie = {\n\u001b[1;32m      2\u001b[0m     \u001b[0;34m\"id\"\u001b[0m\u001b[0;34m:\u001b[0m\u001b[0;36m0\u001b[0m\u001b[0;34m,\u001b[0m\u001b[0;34m\u001b[0m\u001b[0;34m\u001b[0m\u001b[0m\n\u001b[0;32m----> 3\u001b[0;31m     \u001b[0;34m\"timestamp\"\u001b[0m\u001b[0;34m:\u001b[0m\u001b[0mISODate\u001b[0m\u001b[0;34m(\u001b[0m\u001b[0;36m1581717368.347977\u001b[0m\u001b[0;34m)\u001b[0m\u001b[0;34m,\u001b[0m\u001b[0;34m\u001b[0m\u001b[0;34m\u001b[0m\u001b[0m\n\u001b[0m\u001b[1;32m      4\u001b[0m     \u001b[0;34m\"Synthetic_index\"\u001b[0m\u001b[0;34m:\u001b[0m\u001b[0;36m100\u001b[0m\u001b[0;34m,\u001b[0m\u001b[0;34m\u001b[0m\u001b[0;34m\u001b[0m\u001b[0m\n\u001b[1;32m      5\u001b[0m     \u001b[0;34m\"owner\"\u001b[0m\u001b[0;34m:\u001b[0m\u001b[0;34m\"Alex Méndez\"\u001b[0m\u001b[0;34m,\u001b[0m\u001b[0;34m\u001b[0m\u001b[0;34m\u001b[0m\u001b[0m\n",
      "\u001b[0;31mNameError\u001b[0m: name 'ISODate' is not defined"
     ]
    }
   ],
   "source": [
    "financial_securitie = {\n",
    "    \"id\":0,\n",
    "    \"timestamp\":1581717368.347977,\n",
    "    \"Synthetic_index\":100,\n",
    "    \"owner\":\"Alex Méndez\",\n",
    "    \"entity\":\"banco santander\",\n",
    "    \"underlying_securities\":[\n",
    "        {\n",
    "            \"id\":0,\n",
    "            \"type\":\"ACCION\",\n",
    "            \"price\":70,\n",
    "            \"weight\":5\n",
    "        },\n",
    "        { \n",
    "            \"id\":1,\n",
    "            \"type\":\"DEUDA\",\n",
    "            \"price\":100,\n",
    "            \"weight\":15\n",
    "        }\n",
    "        ]\n",
    "}\n",
    "peticion = {\n",
    "    \"VF\":\"0\",\n",
    "    \"idAS\":1,\n",
    "    \"precio\":90\n",
    "\n",
    "}"
   ]
  },
  {
   "cell_type": "code",
   "execution_count": 97,
   "metadata": {},
   "outputs": [],
   "source": [
    "def calculate_synthetic_index(precio_peticion,precio_antiguo,peso,indice_sintetico_inicial):\n",
    "    \"\"\"\n",
    "    Funcion que recibe 4 parametros para calcular el indice sintetico al actualizar el precio:\n",
    "    - precio_peticion: precio al que se actualiza\n",
    "    - precio_antiguo: precio antes de la actualizacion\n",
    "    - peso de la accion\n",
    "    - indice sintetico inical\n",
    "    \"\"\"\n",
    "    Rit = (precio_peticion/precio_antiguo)-1\n",
    "    Rt = peso*Rit\n",
    "    isf = indice_sintetico_inicial*(1-Rt)\n",
    "    return isf"
   ]
  },
  {
   "cell_type": "code",
   "execution_count": 98,
   "metadata": {},
   "outputs": [
    {
     "data": {
      "text/plain": [
       "{'id': 1,\n",
       " 'timestamp': 1581840620.3934588,\n",
       " 'Synthetic_index': 249.99999999999994,\n",
       " 'dueño': 'pepe',\n",
       " 'entidad': 'banco santander',\n",
       " 'activos_subyacentes': [{'id': 0, 'type': 'ACCION', 'precio': 70, 'peso': 5},\n",
       "  {'id': 1, 'type': 'DEUDA', 'precio': 90, 'peso': 15}]}"
      ]
     },
     "execution_count": 98,
     "metadata": {},
     "output_type": "execute_result"
    }
   ],
   "source": [
    "def update_financial_securitie(financial_securitie,peticion):    \n",
    "    activos = financial_securitie[\"activos_subyacentes\"]\n",
    "    isi = financial_securitie[\"Synthetic_index\"]\n",
    "    p_peticion = peticion[\"price\"]\n",
    "    for i in range(len(activos)):\n",
    "        if activos[i][\"id\"]== peticion[\"idAS\"]:\n",
    "            peso = activos[i][\"weight\"]\n",
    "            indice_sintetico_final = calculate_synthetic_index(p_peticion,activos[i][\"precio\"],peso,isi)\n",
    "            activos[i]['price'] = p_peticion\n",
    "            fs_final = {\n",
    "                        \"id\":financial_securitie[\"id\"]+1,\n",
    "                        \"timestamp\":time.time(),\n",
    "                        \"Synthetic_index\":indice_sintetico_final,\n",
    "                        \"owner\":\"pepe\",\n",
    "                        \"entity\":\"banco santander\",\n",
    "                        \"underlying_securities\":activos\n",
    "                        }\n",
    "            return fs_final\n",
    "fs_final = update_financial_securitie(financial_securitie,peticion)\n",
    "fs_final"
   ]
  },
  {
   "cell_type": "code",
   "execution_count": null,
   "metadata": {},
   "outputs": [],
   "source": []
  },
  {
   "cell_type": "code",
   "execution_count": 116,
   "metadata": {},
   "outputs": [
    {
     "data": {
      "text/plain": [
       "0"
      ]
     },
     "execution_count": 116,
     "metadata": {},
     "output_type": "execute_result"
    }
   ],
   "source": [
    "peticiones = {\n",
    "    0:{\n",
    "        \"id_fs\":0,\n",
    "        \"idAS\":0,\n",
    "        \"price\":90  \n",
    "    }\n",
    "}\n",
    "peticiones[0][\"id_fs\"]"
   ]
  },
  {
   "cell_type": "code",
   "execution_count": 100,
   "metadata": {},
   "outputs": [],
   "source": [
    "def calculate_Rt(activos,peticiones):\n",
    "    Rt = 0\n",
    "    for ind in range(len(peticiones)):\n",
    "        for i in range(len(activos)):\n",
    "            if activos[i][\"id\"]==peticiones[ind][\"idAS\"]:\n",
    "                rit=(peticiones[ind][\"price\"]/activos[i][\"price\"])-1\n",
    "                Rt+=activos[i][\"weight\"]*rit\n",
    "                activos[i][\"price\"] = peticiones[ind][\"price\"]\n",
    "        return Rt, activos"
   ]
  },
  {
   "cell_type": "code",
   "execution_count": 101,
   "metadata": {},
   "outputs": [],
   "source": [
    "Rt,activos = calculate_Rt(financial_securitie[\"activos_subyacentes\"],peticiones)\n",
    "si = 100*(1+Rt)\n",
    "    "
   ]
  },
  {
   "cell_type": "code",
   "execution_count": 102,
   "metadata": {},
   "outputs": [
    {
     "data": {
      "text/plain": [
       "{'id': 1,\n",
       " 'timestamp': 1581840623.570646,\n",
       " 'Synthetic_index': 100.0,\n",
       " 'dueño': 'pepe',\n",
       " 'entidad': 'banco santander',\n",
       " 'activos_subyacentes': [{'id': 0, 'type': 'ACCION', 'precio': 90, 'peso': 5},\n",
       "  {'id': 1, 'type': 'DEUDA', 'precio': 90, 'peso': 15}]}"
      ]
     },
     "execution_count": 102,
     "metadata": {},
     "output_type": "execute_result"
    }
   ],
   "source": [
    "def update_financial_securitie_2(financial_securitie,peticion):    \n",
    "    activos = financial_securitie[\"underlying_securities\"]\n",
    "    isi = financial_securitie[\"Synthetic_index\"]\n",
    "    p_peticion = peticion[\"price\"]\n",
    "    \n",
    "    Rt,activos = calculate_Rt(financial_securitie[\"underlying_securities\"],peticiones)\n",
    "    si = isi*(1+Rt)\n",
    "    \n",
    "    fs_final = {\n",
    "                \"id\":financial_securitie[\"id\"]+1,\n",
    "                \"timestamp\":time.time(),\n",
    "                \"Synthetic_index\":si,\n",
    "                \"owner\":\"pepe\",\n",
    "                \"entity\":\"banco santander\",\n",
    "                \"underlying_securities\":activos\n",
    "                }\n",
    "    return fs_final\n",
    "fs_final = update_financial_securitie_2(financial_securitie,peticion)\n",
    "fs_final"
   ]
  },
  {
   "cell_type": "code",
   "execution_count": 103,
   "metadata": {},
   "outputs": [],
   "source": [
    "from pymongo import MongoClient\n",
    "import os\n",
    "from dotenv import load_dotenv\n",
    "load_dotenv()\n",
    "\n",
    "#Get Password\n",
    "connection = os.getenv('URLMONGO')\n",
    "#Connect to DB\n",
    "client = MongoClient(connection)\n",
    "def connectCollection(database, collection):\n",
    "    db = client[database]\n",
    "    coll = db[collection]\n",
    "    return db, coll"
   ]
  },
  {
   "cell_type": "code",
   "execution_count": 104,
   "metadata": {},
   "outputs": [],
   "source": [
    "db,coll = connectCollection('ets_factory','financial_securities')"
   ]
  },
  {
   "cell_type": "code",
   "execution_count": 113,
   "metadata": {},
   "outputs": [
    {
     "name": "stderr",
     "output_type": "stream",
     "text": [
      "/usr/local/lib/python3.7/site-packages/ipykernel_launcher.py:1: DeprecationWarning: insert is deprecated. Use insert_one or insert_many instead.\n",
      "  \"\"\"Entry point for launching an IPython kernel.\n"
     ]
    },
    {
     "data": {
      "text/plain": [
       "ObjectId('5e48fdeb8dbb46c2fb90ef75')"
      ]
     },
     "execution_count": 113,
     "metadata": {},
     "output_type": "execute_result"
    }
   ],
   "source": [
    "coll.insert(financial_securitie)"
   ]
  },
  {
   "cell_type": "code",
   "execution_count": 114,
   "metadata": {},
   "outputs": [
    {
     "data": {
      "text/plain": [
       "[{'_id': ObjectId('5e48f9028dbb46c2fb90ef73'),\n",
       "  'id': 0,\n",
       "  'timestamp': 1581717368.347977,\n",
       "  'Synthetic_index': 100,\n",
       "  'dueño': 'pepe',\n",
       "  'entidad': 'banco santander',\n",
       "  'activos_subyacentes': [{'id': 0, 'type': 'ACCION', 'precio': 90, 'peso': 5},\n",
       "   {'id': 1, 'type': 'DEUDA', 'precio': 90, 'peso': 15}]},\n",
       " {'_id': ObjectId('5e48fdc78dbb46c2fb90ef74'),\n",
       "  'id': 0,\n",
       "  'timestamp': 1581717368.347977,\n",
       "  'Synthetic_index': 100,\n",
       "  'owner': 'pepe',\n",
       "  'entity': 'banco santander',\n",
       "  'underlying_securities': [{'id': 0,\n",
       "    'type': 'ACCION',\n",
       "    'price': 70,\n",
       "    'weight': 5},\n",
       "   {'id': 1, 'type': 'DEUDA', 'price': 100, 'weight': 15}]},\n",
       " {'_id': ObjectId('5e48fdeb8dbb46c2fb90ef75'),\n",
       "  'id': 0,\n",
       "  'timestamp': 1581717368.347977,\n",
       "  'Synthetic_index': 100,\n",
       "  'owner': 'Alex Méndez',\n",
       "  'entity': 'banco santander',\n",
       "  'underlying_securities': [{'id': 0,\n",
       "    'type': 'ACCION',\n",
       "    'price': 70,\n",
       "    'weight': 5},\n",
       "   {'id': 1, 'type': 'DEUDA', 'price': 100, 'weight': 15}]}]"
      ]
     },
     "execution_count": 114,
     "metadata": {},
     "output_type": "execute_result"
    }
   ],
   "source": [
    "list(coll.find({}))"
   ]
  },
  {
   "cell_type": "code",
   "execution_count": 117,
   "metadata": {},
   "outputs": [],
   "source": [
    "financial_securitie = list(coll.find({'id':peticiones[0][\"id_fs\"]}))[-1]"
   ]
  },
  {
   "cell_type": "code",
   "execution_count": 118,
   "metadata": {},
   "outputs": [
    {
     "data": {
      "text/plain": [
       "{'_id': ObjectId('5e48fdeb8dbb46c2fb90ef75'),\n",
       " 'id': 0,\n",
       " 'timestamp': 1581717368.347977,\n",
       " 'Synthetic_index': 100,\n",
       " 'owner': 'Alex Méndez',\n",
       " 'entity': 'banco santander',\n",
       " 'underlying_securities': [{'id': 0,\n",
       "   'type': 'ACCION',\n",
       "   'price': 70,\n",
       "   'weight': 5},\n",
       "  {'id': 1, 'type': 'DEUDA', 'price': 100, 'weight': 15}]}"
      ]
     },
     "execution_count": 118,
     "metadata": {},
     "output_type": "execute_result"
    }
   ],
   "source": [
    "financial_securitie"
   ]
  },
  {
   "cell_type": "code",
   "execution_count": null,
   "metadata": {},
   "outputs": [],
   "source": []
  }
 ],
 "metadata": {
  "kernelspec": {
   "display_name": "Python 3",
   "language": "python",
   "name": "python3"
  },
  "language_info": {
   "codemirror_mode": {
    "name": "ipython",
    "version": 3
   },
   "file_extension": ".py",
   "mimetype": "text/x-python",
   "name": "python",
   "nbconvert_exporter": "python",
   "pygments_lexer": "ipython3",
   "version": "3.7.5"
  }
 },
 "nbformat": 4,
 "nbformat_minor": 2
}
